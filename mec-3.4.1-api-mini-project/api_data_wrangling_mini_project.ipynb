{
 "cells": [
  {
   "cell_type": "markdown",
   "metadata": {},
   "source": [
    "This exercise will require you to pull some data from the Qunadl API. Qaundl is currently the most widely used aggregator of financial market data."
   ]
  },
  {
   "cell_type": "markdown",
   "metadata": {},
   "source": [
    "As a first step, you will need to register a free account on the http://www.quandl.com website."
   ]
  },
  {
   "cell_type": "markdown",
   "metadata": {},
   "source": [
    "After you register, you will be provided with a unique API key, that you should store:"
   ]
  },
  {
   "cell_type": "code",
   "execution_count": null,
   "metadata": {
    "collapsed": true
   },
   "outputs": [],
   "source": [
    "# Store the API key as a string - according to PEP8, constants are always named in all upper case\n",
    "API_KEY = 'XXXXXXXXXX'"
   ]
  },
  {
   "cell_type": "markdown",
   "metadata": {},
   "source": [
    "Qaundl has a large number of data sources, but, unfortunately, most of them require a Premium subscription. Still, there are also a good number of free datasets."
   ]
  },
  {
   "cell_type": "markdown",
   "metadata": {},
   "source": [
    "For this mini project, we will focus on equities data from the Frankfurt Stock Exhange (FSE), which is available for free. We'll try and analyze the stock prices of a company called Carl Zeiss Meditec, which manufactures tools for eye examinations, as well as medical lasers for laser eye surgery: https://www.zeiss.com/meditec/int/home.html. The company is listed under the stock ticker AFX_X."
   ]
  },
  {
   "cell_type": "markdown",
   "metadata": {},
   "source": [
    "You can find the detailed Quandl API instructions here: https://docs.quandl.com/docs/time-series"
   ]
  },
  {
   "cell_type": "markdown",
   "metadata": {},
   "source": [
    "While there is a dedicated Python package for connecting to the Quandl API, we would prefer that you use the *requests* package, which can be easily downloaded using *pip* or *conda*. You can find the documentation for the package here: http://docs.python-requests.org/en/master/ "
   ]
  },
  {
   "cell_type": "markdown",
   "metadata": {},
   "source": [
    "Finally, apart from the *requests* package, you are encouraged to not use any third party Python packages, such as *pandas*, and instead focus on what's available in the Python Standard Library (the *collections* module might come in handy: https://pymotw.com/3/collections/).\n",
    "Also, since you won't have access to DataFrames, you are encouraged to us Python's native data structures - preferably dictionaries, though some questions can also be answered using lists.\n",
    "You can read more on these data structures here: https://docs.python.org/3/tutorial/datastructures.html"
   ]
  },
  {
   "cell_type": "markdown",
   "metadata": {},
   "source": [
    "Keep in mind that the JSON responses you will be getting from the API map almost one-to-one to Python's dictionaries. Unfortunately, they can be very nested, so make sure you read up on indexing dictionaries in the documentation provided above."
   ]
  },
  {
   "cell_type": "code",
   "execution_count": null,
   "metadata": {
    "collapsed": true
   },
   "outputs": [],
   "source": [
    "# First, import the relevant modules\n",
    "\n",
    "# couldn't find the FSE data for free on Quandl.  \n",
    "# https://www.quandl.com/data/XFRA-Frankfurt-Stock-Exchange-Prices/documentation \n",
    "# and https://www.quandl.com/data/XDUS/AFX_UADJ-Carl-Zeiss-Meditec-A-G-AFX-Unadjusted-Stock-Prices\n",
    "# states the data is 'premium'\n",
    "\n",
    "# using \n",
    "\n"
   ]
  },
  {
   "cell_type": "code",
   "execution_count": null,
   "metadata": {
    "collapsed": true
   },
   "outputs": [],
   "source": [
    "# Now, call the Quandl API and pull out a small sample of the data (only one day) to get a glimpse\n",
    "# into the JSON structure that will be returned\n"
   ]
  },
  {
   "cell_type": "code",
   "execution_count": null,
   "metadata": {
    "collapsed": true
   },
   "outputs": [],
   "source": [
    "# Inspect the JSON structure of the object you created, and take note of how nested it is,\n",
    "# as well as the overall structure\n"
   ]
  },
  {
   "cell_type": "markdown",
   "metadata": {},
   "source": [
    "These are your tasks for this mini project:\n",
    "\n",
    "1. Collect data from the Franfurt Stock Exchange, for the ticker AFX_X, for the whole year 2017 (keep in mind that the date format is YYYY-MM-DD).\n",
    "2. Convert the returned JSON object into a Python dictionary.\n",
    "3. Calculate what the highest and lowest opening prices were for the stock in this period.\n",
    "4. What was the largest change in any one day (based on High and Low price)?\n",
    "5. What was the largest change between any two days (based on Closing Price)?\n",
    "6. What was the average daily trading volume during this year?\n",
    "7. (Optional) What was the median trading volume during this year. (Note: you may need to implement your own function for calculating the median.)"
   ]
  },
  {
   "cell_type": "code",
   "execution_count": null,
   "metadata": {
    "collapsed": true
   },
   "outputs": [],
   "source": [
    "# -*- coding: utf-8 -*-\n",
    "\"\"\"\n",
    "Created on Thu Aug  5 14:29:52 2021\n",
    "\n",
    "@author: sreit\n",
    "\"\"\"\n",
    "\n",
    "# Store the API key as a string - according to PEP8, constants are always named in all upper case\n",
    "API_KEY = 'XXXXXXXXXXX'\n",
    "\n",
    "\n",
    "#-----------------------------------------------------------------------------\n",
    "# First, import the relevant modules\n",
    "\n",
    "# couldn't find the FSE data for free on Quandl.  \n",
    "# https://www.quandl.com/data/XFRA-Frankfurt-Stock-Exchange-Prices/documentation \n",
    "# and https://www.quandl.com/data/XDUS/AFX_UADJ-Carl-Zeiss-Meditec-A-G-AFX-Unadjusted-Stock-Prices\n",
    "# states the data is 'premium'\n",
    "\n",
    "# using AFX.XFRA from https://marketstack.com/\n",
    "\n",
    "import requests\n",
    "\n",
    "\n",
    "#-----------------------------------------------------------------------------\n",
    "# Now, call the Quandl API and pull out a small sample of the data (only one day) to get a glimpse\n",
    "# into the JSON structure that will be returned\n",
    "\n",
    "baseURL = 'http://api.marketstack.com/v1/'\n",
    "dataCode = 'eod'\n",
    "accessKey = '?access_key='+API_KEY\n",
    "symbols = '&symbols=AFX.XFRA'\n",
    "dateFrom = ['&date_from=2020-06-07','&date_from=2020-11-01','&date_from=2021-03-16']\n",
    "dateTo = ['&date_to=2020-10-31','&date_to=2021-03-15','&date_to=2021-08-05']\n",
    "\n",
    "stockInfo = []\n",
    "\n",
    "for i in range(3):\n",
    "    apiResponse = requests.get(baseURL + dataCode + accessKey + symbols + dateFrom[i] + dateTo[i])\n",
    "    apiData = apiResponse.json()\n",
    "    for i in apiData['data']:\n",
    "        print(i['date'])\n",
    "    stockInfo = apiData['data'] + stockInfo\n",
    "    \n",
    "\n",
    "\n",
    "#-----------------------------------------------------------------------------\n",
    "# Inspect the JSON structure of the object you created, and take note of how nested it is,\n",
    "# as well as the overall structure\n",
    "\n",
    "\n",
    "\n",
    "# 1. Collect data from the Franfurt Stock Exchange, for the ticker AFX_X, for the whole year 2017 (keep in mind that the date format is YYYY-MM-DD).\n",
    "#    Unable; Quandl is no longer a free source, and marketstack.com only provides the previous 365 days\n",
    "\n",
    "#    apiResponse = requests.get(baseURL + dataCode + accessKey + symbols + dateFrom[i] + dateTo[i])\n",
    "\n",
    "\n",
    "# 2. Convert the returned JSON object into a Python dictionary.\n",
    "\n",
    "#    apiData = apiResponse.json()\n",
    "\n",
    "\n",
    "# 3. Calculate what the highest and lowest opening prices were for the stock in this period.\n",
    "\n",
    "maximum = float('-inf')\n",
    "minimum = float('inf')\n",
    "\n",
    "for i in stockInfo:\n",
    "    if i['open'] > maximum: \n",
    "        maximum = i['open']\n",
    "        dateMax = str(i['date'])[:10]\n",
    "    elif i['open'] < minimum:\n",
    "        minimum = i['open']\n",
    "        dateMin = str(i['date'])[:10]\n",
    "        \n",
    "print(\"The maximum opening price was:  $\" + str(\"%.2f\" % maximum) + \"  on \" + str(dateMax) + \" and the minimum price was:  $\" + str(\"%.2f\" % minimum) + \" on \" + str(dateMin) + \".\")\n",
    "\n",
    "\n",
    "# 4. What was the largest change in any one day (based on High and Low price)?\n",
    "\n",
    "maxDif = float('-inf')\n",
    "minDif = float('inf')\n",
    "\n",
    "for i in stockInfo:\n",
    "    if abs(i['high'] - i['low']) > maxDif: \n",
    "        maxDif = i['high'] - i['low']\n",
    "        dateMax = str(i['date'])[:10]\n",
    "        if maxDif > 0:\n",
    "            posChange = \"\"\n",
    "        else:\n",
    "            posChange = \"-\"\n",
    "            maxDif = abs(maxDif)\n",
    "        \n",
    "print(\"The maximum change in price in one day was:  \" + str(posChange) + \"$\" + str(\"%.2f\" % maxDif) + \"  on \" + str(dateMax) + \".\")\n",
    "\n",
    "\n",
    "# 5. What was the largest change between any two days (based on Closing Price)?\n",
    "\n",
    "maxDif = float('-inf')\n",
    "prevClose = stockInfo[0]['close']\n",
    "\n",
    "for i in stockInfo:\n",
    "    if abs(i['close'] - prevClose) > maxDif: \n",
    "        dateMax = str(i['date'])[:10]\n",
    "        maxDif = i['close'] - prevClose\n",
    "        if maxDif > 0:\n",
    "            posChange = \"\"\n",
    "        else:\n",
    "            posChange = \"-\"\n",
    "            maxDif = abs(maxDif)\n",
    "        \n",
    "print(\"The maximum change in price in one day was:  \" + str(posChange) + \"$\" + str(\"%.2f\" % maxDif) + \"  on \" + str(dateMax) + \".\")\n",
    "\n",
    "\n",
    "# 6. What was the average daily trading volume during this year?\n",
    "\n",
    "sumVol = 0\n",
    "\n",
    "for i in stockInfo:\n",
    "    sumVol = sumVol + i['volume']\n",
    "    \n",
    "avg = sumVol / len(stockInfo)\n",
    "\n",
    "print(\"The mean daily trading volume was:  \" + str(\"%.2f\" % avg) + \".\")\n",
    "\n",
    "\n",
    "# 7. (Optional) What was the median trading volume during this year. (Note: you may need to implement your own function for calculating the median.)\n",
    "\n",
    "volByDate = []\n",
    "\n",
    "for i in stockInfo:\n",
    "    volByDate.append(i['volume'])\n",
    "\n",
    "volByDate.sort()\n",
    "\n",
    "\n",
    "medVol = volByDate[int(len(volByDate)/2)]\n",
    "\n",
    "print(\"The median daily trading volume was:  \" + str(\"%.2f\" % medVol) + \".\")"
   ]
  }
 ],
 "metadata": {
  "kernelspec": {
   "display_name": "Python 3",
   "language": "python",
   "name": "python3"
  },
  "language_info": {
   "codemirror_mode": {
    "name": "ipython",
    "version": 3
   },
   "file_extension": ".py",
   "mimetype": "text/x-python",
   "name": "python",
   "nbconvert_exporter": "python",
   "pygments_lexer": "ipython3",
   "version": "3.8.11"
  }
 },
 "nbformat": 4,
 "nbformat_minor": 2
}
